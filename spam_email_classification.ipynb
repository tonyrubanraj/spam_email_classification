{
 "cells":[
  {
   "cell_type":"markdown",
   "source":[
    "# **Spam Email Classification**\n",
    "\n",
    "There are various supervised learning algorithms that can be used for classification problems. One of the applications of these learning algorithms is classifying spam emails. Here, various learning algorithms such as Decision tree, Random forest, SVC, Logistic Regression and MLP are used to classify the mails and their results are compared. The email data used for the analysis is obtained from the spamassassin website (https:\/\/spamassassin.apache.org\/old\/publiccorpus\/)."
   ],
   "attachments":{
    
   },
   "metadata":{
    "datalore":{
     "type":"MD",
     "hide_input_from_viewers":true,
     "hide_output_from_viewers":false
    }
   }
  },
  {
   "cell_type":"markdown",
   "source":[
    "## Downloading dataset"
   ],
   "attachments":{
    
   },
   "metadata":{
    "datalore":{
     "type":"MD",
     "hide_input_from_viewers":false,
     "hide_output_from_viewers":false
    }
   }
  },
  {
   "cell_type":"code",
   "source":[
    "import os\n",
    "\n",
    "SPAM_URLS = [\"https:\/\/spamassassin.apache.org\/old\/publiccorpus\/20021010_spam.tar.bz2\", \"https:\/\/spamassassin.apache.org\/old\/publiccorpus\/20030228_spam.tar.bz2\", \"https:\/\/spamassassin.apache.org\/old\/publiccorpus\/20030228_spam_2.tar.bz2\", \"https:\/\/spamassassin.apache.org\/old\/publiccorpus\/20050311_spam_2.tar.bz2\"]\n",
    "HAM_URLS = [\"https:\/\/spamassassin.apache.org\/old\/publiccorpus\/20021010_easy_ham.tar.bz2\", \"https:\/\/spamassassin.apache.org\/old\/publiccorpus\/20021010_hard_ham.tar.bz2\", \"https:\/\/spamassassin.apache.org\/old\/publiccorpus\/20030228_easy_ham.tar.bz2\", \"https:\/\/spamassassin.apache.org\/old\/publiccorpus\/20030228_easy_ham_2.tar.bz2\",\"https:\/\/spamassassin.apache.org\/old\/publiccorpus\/20030228_hard_ham.tar.bz2\"]\n",
    "DOWNLOAD_PATH = os.path.join(\"dataset\")\n",
    "EXTRACTION_PATH = os.path.join(DOWNLOAD_PATH, \"extracted\")"
   ],
   "execution_count":18,
   "outputs":[
    
   ],
   "metadata":{
    "datalore":{
     "type":"CODE",
     "hide_input_from_viewers":true,
     "hide_output_from_viewers":false
    }
   }
  },
  {
   "cell_type":"code",
   "source":[
    "from urllib.request import urlretrieve\n",
    "import tarfile\n",
    "\n",
    "# function to download dataset from the spam corpus using URLs\n",
    "def download_file(url):\n",
    "    filename = url.split('\/')[-1]\n",
    "\n",
    "    if not os.path.isdir(DOWNLOAD_PATH):\n",
    "        os.makedirs(DOWNLOAD_PATH)\n",
    "         \n",
    "    filepath, headers = urlretrieve(url, os.path.join(DOWNLOAD_PATH, filename))\n",
    "    tar = tarfile.open(filepath)\n",
    "    tar.extractall(os.path.join(EXTRACTION_PATH, filename.split('.')[0]))"
   ],
   "execution_count":19,
   "outputs":[
    
   ],
   "metadata":{
    "datalore":{
     "type":"CODE",
     "hide_input_from_viewers":true,
     "hide_output_from_viewers":false
    }
   }
  },
  {
   "cell_type":"markdown",
   "source":[
    "## Preprocessing and Feature Extraction"
   ],
   "attachments":{
    
   },
   "metadata":{
    "datalore":{
     "type":"MD",
     "hide_input_from_viewers":false,
     "hide_output_from_viewers":false
    }
   }
  },
  {
   "cell_type":"code",
   "source":[
    "import re\n",
    "\n",
    "# function to preprocess the email message body to remove unnecessary contents\n",
    "def get_processed_msg_content(message):\n",
    "    \n",
    "    # remove white space\n",
    "    message = message.replace(\"\\n\", \" \")\n",
    "    \n",
    "    # change the texts to lower case\n",
    "    message = message.lower()\n",
    "    \n",
    "    # remove html tags and parse them\n",
    "    message = re.sub(r\"<(“[^”]*”|'[^’]*’|[^'”>])*>\", \" \", message)\n",
    "    \n",
    "    # replace emails with 'email'\n",
    "    message = re.sub(r\"[\\S]+@[\\S]+\\.[\\S]+\", \"EMAIL\", message)\n",
    "    \n",
    "    # replace URLs with 'url'\n",
    "    message = re.sub(r\"http[s]?:\/\/[\\S]+\", \"URL\", message)\n",
    "    \n",
    "    # replace the currency symbols with 'currency'\n",
    "    message = re.sub(r\"\\$([ ]?(\\d)+)?\", \"AMOUNT\", message)\n",
    "    \n",
    "    # replace numbers with 'number'\n",
    "    message = re.sub(r\"\\b(\\d)+\\b\", \"NUMBER\", message)\n",
    "    \n",
    "    # remove unnecessary punctuations and special characters\n",
    "    message = re.sub(r\"[!@#$%^&*()_+\\-=\\[\\]{};`~':\\\"\\\\|,.<>\\\/?]+\", \" \", message)\n",
    "    \n",
    "    return message"
   ],
   "execution_count":20,
   "outputs":[
    
   ],
   "metadata":{
    "datalore":{
     "type":"CODE",
     "hide_input_from_viewers":true,
     "hide_output_from_viewers":false
    }
   }
  },
  {
   "cell_type":"code",
   "source":[
    "import glob\n",
    "import email\n",
    "\n",
    "def get_mail_contents(mail_type):\n",
    "    messages = []\n",
    "    filelists = glob.glob(EXTRACTION_PATH + \"\/*\" + mail_type + \"*\/*\/*\", recursive = True)\n",
    "    for email_file in filelists:\n",
    "        message = \"\"\n",
    "        try:\n",
    "            fp = open(email_file, encoding= 'latin-1')\n",
    "            email_content = email.message_from_file(fp)\n",
    "            for part in email_content.walk():\n",
    "                if part.get_content_type() == 'text\/plain':\n",
    "                    message = part.get_payload()\n",
    "        except:\n",
    "            print(\"Error in parsing document %r\" % email_file)\n",
    "        messages.append(get_processed_msg_content(message))\n",
    "\n",
    "    return messages"
   ],
   "execution_count":21,
   "outputs":[
    
   ],
   "metadata":{
    "datalore":{
     "type":"CODE",
     "hide_input_from_viewers":true,
     "hide_output_from_viewers":false
    }
   }
  },
  {
   "cell_type":"code",
   "source":[
    "from sklearn.feature_extraction.text import CountVectorizer\n",
    "import numpy as np\n",
    "from sklearn.utils import shuffle\n",
    "\n",
    "# creating features using the 5000 most frequently found words in the mail dataset\n",
    "def create_features():\n",
    "    ham = get_mail_contents(\"ham\")\n",
    "    spam = get_mail_contents(\"spam\")\n",
    "    messages = ham + spam\n",
    "    vectorizer = CountVectorizer(stop_words = 'english', max_features = 5000)\n",
    "    X = vectorizer.fit_transform(messages).toarray()\n",
    "    y = np.concatenate((np.zeros((len(ham))), np.ones((len(spam)))))\n",
    "    return shuffle(X, y, random_state = 4)"
   ],
   "execution_count":22,
   "outputs":[
    
   ],
   "metadata":{
    "datalore":{
     "type":"CODE",
     "hide_input_from_viewers":true,
     "hide_output_from_viewers":false
    }
   }
  },
  {
   "cell_type":"code",
   "source":[
    "def load_dataset():\n",
    "    for url in SPAM_URLS + HAM_URLS:\n",
    "        download_file(url)\n",
    "    return create_features()"
   ],
   "execution_count":23,
   "outputs":[
    
   ],
   "metadata":{
    "datalore":{
     "type":"CODE",
     "hide_input_from_viewers":true,
     "hide_output_from_viewers":false
    }
   }
  },
  {
   "cell_type":"code",
   "source":[
    "from sklearn.metrics import confusion_matrix, accuracy_score, precision_score, recall_score, f1_score\n",
    "\n",
    "def display_classifier_metrics(classifier, y_actual, y_pred):\n",
    "    print(\"\\n\\n\", classifier)\n",
    "    print(\"Confusion matrics : \", confusion_matrix(y_actual, y_pred))\n",
    "    print(\"Precision : \", precision_score(y_actual, y_pred))\n",
    "    print(\"Recall : \", recall_score(y_actual, y_pred))\n",
    "    print(\"F1 score : \", f1_score(y_actual, y_pred))\n",
    "    print(\"Accuracy score : \", accuracy_score(y_actual, y_pred))"
   ],
   "execution_count":24,
   "outputs":[
    
   ],
   "metadata":{
    "datalore":{
     "type":"CODE",
     "hide_input_from_viewers":true,
     "hide_output_from_viewers":false
    }
   }
  },
  {
   "cell_type":"markdown",
   "source":[
    "## Training the models"
   ],
   "attachments":{
    
   },
   "metadata":{
    "datalore":{
     "type":"MD",
     "hide_input_from_viewers":false,
     "hide_output_from_viewers":false
    }
   }
  },
  {
   "cell_type":"code",
   "source":[
    "from sklearn.model_selection import train_test_split\n",
    "from sklearn.svm import SVC\n",
    "from sklearn.tree import DecisionTreeClassifier\n",
    "from sklearn.ensemble import RandomForestClassifier\n",
    "from sklearn.linear_model import LogisticRegression\n",
    "from sklearn.neural_network import MLPClassifier\n",
    "\n",
    "X, y = load_dataset()\n",
    "\n",
    "X_train, X_test, y_train, y_test = train_test_split(X, y, test_size = 0.33, random_state = 4)\n",
    "\n",
    "classifiers = {\n",
    "    'svc' : SVC(),\n",
    "    'decision tree' : DecisionTreeClassifier(),\n",
    "    'random forest' : RandomForestClassifier(),\n",
    "    'logistic regression' : LogisticRegression(solver = 'newton-cg'),\n",
    "    'mlp' : MLPClassifier()\n",
    "    }"
   ],
   "execution_count":25,
   "outputs":[
    
   ],
   "metadata":{
    "datalore":{
     "type":"CODE",
     "hide_input_from_viewers":true,
     "hide_output_from_viewers":false
    }
   }
  },
  {
   "cell_type":"markdown",
   "source":[
    "## Result"
   ],
   "attachments":{
    
   },
   "metadata":{
    "datalore":{
     "type":"MD",
     "hide_input_from_viewers":false,
     "hide_output_from_viewers":false
    }
   }
  },
  {
   "cell_type":"code",
   "source":[
    "for classifier_name, classifier in classifiers.items():\n",
    "    classifier.fit(X_train, y_train)\n",
    "    y_pred = classifier.predict(X_test)\n",
    "    display_classifier_metrics(classifier_name, y_test, y_pred)"
   ],
   "execution_count":26,
   "outputs":[
    {
     "name":"stdout",
     "text":[
      "\n",
      "\n",
      " svc\n",
      "Confusion matrics :  [[2267   22]\n",
      " [ 783  476]]\n",
      "Precision :  0.9558232931726908\n",
      "Recall :  0.3780778395552025\n",
      "F1 score :  0.5418326693227091\n",
      "Accuracy score :  0.7731116121758738\n",
      "\n",
      "\n",
      " decision tree\n",
      "Confusion matrics :  [[2141  148]\n",
      " [  19 1240]]\n",
      "Precision :  0.8933717579250721\n",
      "Recall :  0.9849086576648134\n",
      "F1 score :  0.9369097091046469\n",
      "Accuracy score :  0.9529312288613303\n",
      "\n",
      "\n",
      " random forest\n",
      "Confusion matrics :  [[2199   90]\n",
      " [  15 1244]]\n",
      "Precision :  0.9325337331334332\n",
      "Recall :  0.9880857823669579\n",
      "F1 score :  0.9595063632857693\n",
      "Accuracy score :  0.9704058624577226\n",
      "\n",
      "\n",
      " logistic regression\n",
      "Confusion matrics :  [[2192   97]\n",
      " [  12 1247]]\n",
      "Precision :  0.9278273809523809\n",
      "Recall :  0.9904686258935663\n",
      "F1 score :  0.9581252401075682\n",
      "Accuracy score :  0.9692784667418264\n",
      "\n",
      "\n",
      " mlp\n",
      "Confusion matrics :  [[2202   87]\n",
      " [  12 1247]]\n",
      "Precision :  0.9347826086956522\n",
      "Recall :  0.9904686258935663\n",
      "F1 score :  0.9618202853837254\n",
      "Accuracy score :  0.9720969560315671\n"
     ],
     "output_type":"stream"
    }
   ],
   "metadata":{
    "datalore":{
     "type":"CODE",
     "hide_input_from_viewers":false,
     "hide_output_from_viewers":false
    }
   }
  },
  {
   "cell_type":"markdown",
   "source":[
    "The result of the prediction using various learning algorithms shows that SVC has the least accuracy and F1 score while all the other algorithms perform well in classifying spam emails."
   ],
   "attachments":{
    
   },
   "metadata":{
    "datalore":{
     "type":"MD",
     "hide_input_from_viewers":true,
     "hide_output_from_viewers":false
    }
   }
  }
 ],
 "metadata":{
  "datalore":{
   "version":1,
   "computation_mode":"JUPYTER",
   "package_manager":"pip",
   "base_environment":"default",
   "packages":[
    
   ]
  }
 },
 "nbformat":4,
 "nbformat_minor":4
}