{
 "cells": [
  {
   "cell_type": "markdown",
   "metadata": {
    "datalore": {
     "hide_input_from_viewers": true,
     "hide_output_from_viewers": false,
     "type": "MD"
    }
   },
   "source": [
    "# **Spam Email Classification**\n",
    "\n",
    "One of the applications of supervised learning algorithms is classifying spam emails. The email data used for the following analysis was obtained from the spamassassin website (https://spamassassin.apache.org/old/publiccorpus/)."
   ]
  },
  {
   "cell_type": "markdown",
   "metadata": {
    "datalore": {
     "hide_input_from_viewers": false,
     "hide_output_from_viewers": false,
     "type": "MD"
    }
   },
   "source": [
    "## Downloading dataset"
   ]
  },
  {
   "cell_type": "code",
   "execution_count": 36,
   "metadata": {
    "datalore": {
     "hide_input_from_viewers": true,
     "hide_output_from_viewers": false,
     "type": "CODE"
    }
   },
   "outputs": [],
   "source": [
    "from urllib.request import urlretrieve\n",
    "import tarfile\n",
    "import os\n",
    "\n",
    "# function to download dataset from the spam corpus using URLs\n",
    "def download_file(url, folderPath):\n",
    "    \"\"\"\n",
    "    Downloads the tar file from the given url\n",
    "    \n",
    "    Arguments:\n",
    "    url -- the URL of the compressed file from spamassassin website\n",
    "    folderPath -- the destination path where the file will be downloaded\n",
    "    \n",
    "    Returns:\n",
    "    filePath -- the absolute path of the downloaded file\n",
    "    \"\"\"\n",
    "    filename = url.split('/')[-1]\n",
    "\n",
    "    if not os.path.isdir(folderPath):\n",
    "        os.makedirs(folderPath)\n",
    "         \n",
    "    filepath, headers = urlretrieve(url, os.path.join(folderPath, filename))\n",
    "    return filepath"
   ]
  },
  {
   "cell_type": "code",
   "execution_count": 37,
   "metadata": {
    "datalore": {
     "hide_input_from_viewers": true,
     "hide_output_from_viewers": false,
     "type": "CODE"
    }
   },
   "outputs": [],
   "source": [
    "def extract_file(filepath, extractionPath):\n",
    "    \"\"\"\n",
    "    method to extract the downloaded compressed file\n",
    "    \n",
    "    Arguments:\n",
    "    filepath -- compressed file path\n",
    "    extractionPath -- destination folder where the file will be extracted\n",
    "    \n",
    "    Returns:\n",
    "    folderPath -- the path of the extracted file\n",
    "    \"\"\"\n",
    "    tar = tarfile.open(filepath)\n",
    "    folderPath = os.path.join(extractionPath, filepath.split('/')[-1].split('.')[0])\n",
    "    tar.extractall(folderPath)\n",
    "    return folderPath"
   ]
  },
  {
   "cell_type": "markdown",
   "metadata": {
    "datalore": {
     "hide_input_from_viewers": false,
     "hide_output_from_viewers": false,
     "type": "MD"
    }
   },
   "source": [
    "## Preprocessing and Feature Extraction"
   ]
  },
  {
   "cell_type": "code",
   "execution_count": 38,
   "metadata": {
    "datalore": {
     "hide_input_from_viewers": true,
     "hide_output_from_viewers": false,
     "type": "CODE"
    }
   },
   "outputs": [],
   "source": [
    "import re\n",
    "import copy\n",
    "\n",
    "def get_processed_msg(message_orig):\n",
    "    \"\"\"\n",
    "    function to preprocess the email message body to remove unnecessary content\n",
    "    \n",
    "    Arguments:\n",
    "    message_orig -- raw text content of the email body\n",
    "    \n",
    "    Returns:\n",
    "    message -- email body after processing the text contents\n",
    "    \"\"\"\n",
    "    \n",
    "    message = copy.deepcopy(message_orig)\n",
    "    \n",
    "    # remove white space\n",
    "    message = message.replace(\"\\n\", \" \")\n",
    "    \n",
    "    # change the texts to lower case\n",
    "    message = message.lower()\n",
    "    \n",
    "    # remove html tags and parse them\n",
    "    message = re.sub(r\"<(“[^”]*”|'[^’]*’|[^'”>])*>\", \" \", message)\n",
    "    \n",
    "    # replace emails with 'email'\n",
    "    message = re.sub(r\"[\\S]+@[\\S]+\\.[\\S]+\", \"EMAIL\", message)\n",
    "    \n",
    "    # replace URLs with 'url'\n",
    "    message = re.sub(r\"http[s]?://[\\S]+\", \"URL\", message)\n",
    "    \n",
    "    # replace the currency symbols with 'currency'\n",
    "    message = re.sub(r\"\\$([ ]?(\\d)+)?\", \"AMOUNT\", message)\n",
    "    \n",
    "    # replace numbers with 'number'\n",
    "    message = re.sub(r\"\\b(\\d)+\\b\", \"NUMBER\", message)\n",
    "    \n",
    "    # remove unnecessary punctuations and special characters\n",
    "    message = re.sub(r\"[!@#$%^&*()_+\\-=\\[\\]{};`~':\\\"\\\\|,.<>\\/?]+\", \" \", message)\n",
    "    \n",
    "    return message"
   ]
  },
  {
   "cell_type": "code",
   "execution_count": 39,
   "metadata": {
    "datalore": {
     "hide_input_from_viewers": true,
     "hide_output_from_viewers": false,
     "type": "CODE"
    }
   },
   "outputs": [],
   "source": [
    "import glob\n",
    "import email\n",
    "\n",
    "def get_mail_contents(folderPath):\n",
    "    \"\"\"\n",
    "    method to fetch the message text contents from list of emails\n",
    "    \n",
    "    Arguments:\n",
    "    folderPath -- the folder which has a list of the email files\n",
    "    \n",
    "    Returns:\n",
    "    messages -- an array of text content from the body of the list of emails from the given folder\n",
    "    \"\"\"\n",
    "    \n",
    "    messages = []\n",
    "    mailList = glob.glob(folderPath + \"/*/*\", recursive = True)\n",
    "    for email_file in mailList:\n",
    "        message = \"\"\n",
    "        try:\n",
    "            fp = open(email_file, encoding= 'latin-1')\n",
    "            email_content = email.message_from_file(fp)\n",
    "            for part in email_content.walk():\n",
    "                if part.get_content_type() == 'text/plain':\n",
    "                    message = part.get_payload()\n",
    "        except:\n",
    "            print(\"Error in parsing document %r\" % email_file)\n",
    "        messages.append(get_processed_msg(message))\n",
    "\n",
    "    return messages"
   ]
  },
  {
   "cell_type": "code",
   "execution_count": 40,
   "metadata": {
    "datalore": {
     "hide_input_from_viewers": true,
     "hide_output_from_viewers": false,
     "type": "CODE"
    }
   },
   "outputs": [],
   "source": [
    "from sklearn.feature_extraction.text import CountVectorizer\n",
    "import numpy as np\n",
    "\n",
    "# creating features using the 5000 most frequently found words in the mail dataset\n",
    "def get_frequent_words(messages, featureCount = 5000):\n",
    "    \"\"\"\n",
    "    method to get the most frequently present words in the messages\n",
    "    \n",
    "    Arguments:\n",
    "    messages -- list of messages obtained from the email body\n",
    "    featureCount -- number of words to be extracted\n",
    "    \n",
    "    Returns:\n",
    "    frequentWords -- 'frequentCount' number of frequently present words in the messages\n",
    "    \"\"\"\n",
    "    vectorizer = CountVectorizer(stop_words = 'english', max_features = featureCount)\n",
    "    vectorizer.fit(messages)\n",
    "    frequentWords = vectorizer.get_feature_names_out()\n",
    "    return frequentWords"
   ]
  },
  {
   "cell_type": "code",
   "execution_count": 41,
   "metadata": {
    "datalore": {
     "hide_input_from_viewers": true,
     "hide_output_from_viewers": false,
     "type": "CODE"
    }
   },
   "outputs": [],
   "source": [
    "def extract_features(messages, wordList):\n",
    "    \"\"\"\n",
    "    method to extract feature from the messages using a vocabulary\n",
    "    \n",
    "    Arguments:\n",
    "    messages -- list of messages from which the features are extracted\n",
    "    wordList -- vocabulary which is used to extract the features\n",
    "    \n",
    "    Returns:\n",
    "    X -- an array of records with features extracted using the vocabulary\n",
    "    \"\"\"\n",
    "    vectorizer = CountVectorizer(vocabulary=wordList)\n",
    "    X = vectorizer.fit_transform(messages).toarray()\n",
    "    return X"
   ]
  },
  {
   "cell_type": "code",
   "execution_count": 42,
   "metadata": {
    "datalore": {
     "hide_input_from_viewers": true,
     "hide_output_from_viewers": false,
     "type": "CODE"
    }
   },
   "outputs": [],
   "source": [
    "def get_messages(url):\n",
    "    \"\"\"\n",
    "    method to fetch the messages from the url\n",
    "    \n",
    "    Arguments:\n",
    "    url -- the source file URL\n",
    "    \n",
    "    Returns:\n",
    "    messages -- list of messages preprocessed after downloaded from the spamassassin website\n",
    "    \"\"\"\n",
    "    downloadPath = os.path.join(\"dataset\")\n",
    "    extractionPath = os.path.join(downloadPath, \"extracted\")\n",
    "    \n",
    "    filePath = download_file(url, downloadPath)\n",
    "    folderPath = extract_file(filePath, extractionPath)\n",
    "    messages = get_mail_contents(folderPath)\n",
    "    \n",
    "    return messages"
   ]
  },
  {
   "cell_type": "code",
   "execution_count": 43,
   "metadata": {
    "datalore": {
     "hide_input_from_viewers": true,
     "hide_output_from_viewers": false,
     "type": "CODE"
    }
   },
   "outputs": [],
   "source": [
    "import pandas as pd\n",
    "from sklearn.model_selection import train_test_split\n",
    "\n",
    "def load_dataset(urls, testSize = 0.33, featureCount = 5000):\n",
    "    \"\"\"\n",
    "    method to load the dataset\n",
    "    \n",
    "    Arguments:\n",
    "    urls -- list of urls to download the email files\n",
    "    testSize -- train test dataset split\n",
    "    featureCount -- number of features to be extracted from the messages using frequently occuring words\n",
    "    \n",
    "    Returns:\n",
    "    train_X -- training input features\n",
    "    test_X -- test input features\n",
    "    train_y -- training output values\n",
    "    test_y -- test output values\n",
    "    \"\"\"\n",
    "    messages = []\n",
    "    \n",
    "    for url in urls[\"spam\"]:\n",
    "        messages.extend(get_messages(url))\n",
    "        \n",
    "    spamCount = len(messages)\n",
    "    \n",
    "    for url in urls[\"ham\"]:\n",
    "        messages.extend(get_messages(url))\n",
    "    \n",
    "    hamCount = len(messages) - spamCount\n",
    "    \n",
    "    y = pd.DataFrame({\n",
    "        'spam' : np.concatenate((np.ones((spamCount)), np.zeros((hamCount))))\n",
    "    })\n",
    "    \n",
    "    train_messages, test_messages, train_y, test_y = train_test_split(messages, y, test_size=testSize, random_state = 4)\n",
    "       \n",
    "    vocabulary = get_frequent_words(train_messages, featureCount)\n",
    "    \n",
    "    train_X = extract_features(train_messages, vocabulary)\n",
    "    train_X = pd.DataFrame(train_X, columns=vocabulary)\n",
    "    test_X = extract_features(test_messages, vocabulary)\n",
    "    test_X = pd.DataFrame(test_X, columns=vocabulary)\n",
    "    \n",
    "    return train_X, test_X, train_y, test_y"
   ]
  },
  {
   "cell_type": "markdown",
   "metadata": {
    "datalore": {
     "hide_input_from_viewers": false,
     "hide_output_from_viewers": false,
     "type": "MD"
    }
   },
   "source": [
    "## Training the models"
   ]
  },
  {
   "cell_type": "code",
   "execution_count": 44,
   "metadata": {
    "datalore": {
     "hide_input_from_viewers": true,
     "hide_output_from_viewers": false,
     "type": "CODE"
    }
   },
   "outputs": [],
   "source": [
    "urls = {'spam': [\"https://spamassassin.apache.org/old/publiccorpus/20021010_spam.tar.bz2\", \"https://spamassassin.apache.org/old/publiccorpus/20030228_spam.tar.bz2\", \"https://spamassassin.apache.org/old/publiccorpus/20030228_spam_2.tar.bz2\", \"https://spamassassin.apache.org/old/publiccorpus/20050311_spam_2.tar.bz2\"],\n",
    "        'ham': [\"https://spamassassin.apache.org/old/publiccorpus/20021010_easy_ham.tar.bz2\", \"https://spamassassin.apache.org/old/publiccorpus/20021010_hard_ham.tar.bz2\", \"https://spamassassin.apache.org/old/publiccorpus/20030228_easy_ham.tar.bz2\", \"https://spamassassin.apache.org/old/publiccorpus/20030228_easy_ham_2.tar.bz2\",\"https://spamassassin.apache.org/old/publiccorpus/20030228_hard_ham.tar.bz2\"]}\n",
    "\n",
    "X_train, X_test, y_train, y_test = load_dataset(urls)"
   ]
  },
  {
   "cell_type": "code",
   "execution_count": 45,
   "metadata": {},
   "outputs": [
    {
     "name": "stdout",
     "output_type": "stream",
     "text": [
      "X train shape :  (7203, 5000)\n",
      "y train shape :  (7203, 1)\n",
      "X test shape :  (3548, 5000)\n",
      "y test shape :  (3548, 1)\n"
     ]
    }
   ],
   "source": [
    "# examining the dataset obtained so far\n",
    "print('X train shape : ', X_train.shape)\n",
    "print('y train shape : ', y_train.shape)\n",
    "print('X test shape : ', X_test.shape)\n",
    "print('y test shape : ', y_test.shape)"
   ]
  },
  {
   "cell_type": "markdown",
   "metadata": {},
   "source": [
    "Since the number of features and the total number of records are not very significantly different, a logistic regression classifier is used as the learning algorithm to classify the emails."
   ]
  },
  {
   "cell_type": "code",
   "execution_count": 46,
   "metadata": {
    "datalore": {
     "hide_input_from_viewers": true,
     "hide_output_from_viewers": false,
     "type": "CODE"
    }
   },
   "outputs": [
    {
     "data": {
      "text/html": [
       "<style>#sk-container-id-3 {color: black;background-color: white;}#sk-container-id-3 pre{padding: 0;}#sk-container-id-3 div.sk-toggleable {background-color: white;}#sk-container-id-3 label.sk-toggleable__label {cursor: pointer;display: block;width: 100%;margin-bottom: 0;padding: 0.3em;box-sizing: border-box;text-align: center;}#sk-container-id-3 label.sk-toggleable__label-arrow:before {content: \"▸\";float: left;margin-right: 0.25em;color: #696969;}#sk-container-id-3 label.sk-toggleable__label-arrow:hover:before {color: black;}#sk-container-id-3 div.sk-estimator:hover label.sk-toggleable__label-arrow:before {color: black;}#sk-container-id-3 div.sk-toggleable__content {max-height: 0;max-width: 0;overflow: hidden;text-align: left;background-color: #f0f8ff;}#sk-container-id-3 div.sk-toggleable__content pre {margin: 0.2em;color: black;border-radius: 0.25em;background-color: #f0f8ff;}#sk-container-id-3 input.sk-toggleable__control:checked~div.sk-toggleable__content {max-height: 200px;max-width: 100%;overflow: auto;}#sk-container-id-3 input.sk-toggleable__control:checked~label.sk-toggleable__label-arrow:before {content: \"▾\";}#sk-container-id-3 div.sk-estimator input.sk-toggleable__control:checked~label.sk-toggleable__label {background-color: #d4ebff;}#sk-container-id-3 div.sk-label input.sk-toggleable__control:checked~label.sk-toggleable__label {background-color: #d4ebff;}#sk-container-id-3 input.sk-hidden--visually {border: 0;clip: rect(1px 1px 1px 1px);clip: rect(1px, 1px, 1px, 1px);height: 1px;margin: -1px;overflow: hidden;padding: 0;position: absolute;width: 1px;}#sk-container-id-3 div.sk-estimator {font-family: monospace;background-color: #f0f8ff;border: 1px dotted black;border-radius: 0.25em;box-sizing: border-box;margin-bottom: 0.5em;}#sk-container-id-3 div.sk-estimator:hover {background-color: #d4ebff;}#sk-container-id-3 div.sk-parallel-item::after {content: \"\";width: 100%;border-bottom: 1px solid gray;flex-grow: 1;}#sk-container-id-3 div.sk-label:hover label.sk-toggleable__label {background-color: #d4ebff;}#sk-container-id-3 div.sk-serial::before {content: \"\";position: absolute;border-left: 1px solid gray;box-sizing: border-box;top: 0;bottom: 0;left: 50%;z-index: 0;}#sk-container-id-3 div.sk-serial {display: flex;flex-direction: column;align-items: center;background-color: white;padding-right: 0.2em;padding-left: 0.2em;position: relative;}#sk-container-id-3 div.sk-item {position: relative;z-index: 1;}#sk-container-id-3 div.sk-parallel {display: flex;align-items: stretch;justify-content: center;background-color: white;position: relative;}#sk-container-id-3 div.sk-item::before, #sk-container-id-3 div.sk-parallel-item::before {content: \"\";position: absolute;border-left: 1px solid gray;box-sizing: border-box;top: 0;bottom: 0;left: 50%;z-index: -1;}#sk-container-id-3 div.sk-parallel-item {display: flex;flex-direction: column;z-index: 1;position: relative;background-color: white;}#sk-container-id-3 div.sk-parallel-item:first-child::after {align-self: flex-end;width: 50%;}#sk-container-id-3 div.sk-parallel-item:last-child::after {align-self: flex-start;width: 50%;}#sk-container-id-3 div.sk-parallel-item:only-child::after {width: 0;}#sk-container-id-3 div.sk-dashed-wrapped {border: 1px dashed gray;margin: 0 0.4em 0.5em 0.4em;box-sizing: border-box;padding-bottom: 0.4em;background-color: white;}#sk-container-id-3 div.sk-label label {font-family: monospace;font-weight: bold;display: inline-block;line-height: 1.2em;}#sk-container-id-3 div.sk-label-container {text-align: center;}#sk-container-id-3 div.sk-container {/* jupyter's `normalize.less` sets `[hidden] { display: none; }` but bootstrap.min.css set `[hidden] { display: none !important; }` so we also need the `!important` here to be able to override the default hidden behavior on the sphinx rendered scikit-learn.org. See: https://github.com/scikit-learn/scikit-learn/issues/21755 */display: inline-block !important;position: relative;}#sk-container-id-3 div.sk-text-repr-fallback {display: none;}</style><div id=\"sk-container-id-3\" class=\"sk-top-container\"><div class=\"sk-text-repr-fallback\"><pre>LogisticRegression(max_iter=5000)</pre><b>In a Jupyter environment, please rerun this cell to show the HTML representation or trust the notebook. <br />On GitHub, the HTML representation is unable to render, please try loading this page with nbviewer.org.</b></div><div class=\"sk-container\" hidden><div class=\"sk-item\"><div class=\"sk-estimator sk-toggleable\"><input class=\"sk-toggleable__control sk-hidden--visually\" id=\"sk-estimator-id-3\" type=\"checkbox\" checked><label for=\"sk-estimator-id-3\" class=\"sk-toggleable__label sk-toggleable__label-arrow\">LogisticRegression</label><div class=\"sk-toggleable__content\"><pre>LogisticRegression(max_iter=5000)</pre></div></div></div></div></div>"
      ],
      "text/plain": [
       "LogisticRegression(max_iter=5000)"
      ]
     },
     "execution_count": 46,
     "metadata": {},
     "output_type": "execute_result"
    }
   ],
   "source": [
    "from sklearn.linear_model import LogisticRegression\n",
    "\n",
    "clf = LogisticRegression(max_iter = 5000)\n",
    "\n",
    "clf.fit(X_train, np.ravel(y_train))"
   ]
  },
  {
   "cell_type": "markdown",
   "metadata": {
    "datalore": {
     "hide_input_from_viewers": false,
     "hide_output_from_viewers": false,
     "type": "MD"
    }
   },
   "source": [
    "## Result"
   ]
  },
  {
   "cell_type": "code",
   "execution_count": 47,
   "metadata": {
    "datalore": {
     "hide_input_from_viewers": false,
     "hide_output_from_viewers": false,
     "type": "CODE"
    }
   },
   "outputs": [
    {
     "name": "stdout",
     "output_type": "stream",
     "text": [
      "Confusion matrics :  [[2183  122]\n",
      " [  17 1226]]\n",
      "Precision :  0.9094955489614244\n",
      "Recall :  0.9863234111021721\n",
      "F1 score :  0.9463527595522965\n",
      "Accuracy score :  0.9608229988726043\n"
     ]
    }
   ],
   "source": [
    "from sklearn.metrics import confusion_matrix, accuracy_score, precision_score, recall_score, f1_score\n",
    "\n",
    "y_pred = clf.predict(X_test)\n",
    "print(\"Confusion matrics : \", confusion_matrix(y_test, y_pred))\n",
    "print(\"Precision : \", precision_score(y_test, y_pred))\n",
    "print(\"Recall : \", recall_score(y_test, y_pred))\n",
    "print(\"F1 score : \", f1_score(y_test, y_pred))\n",
    "print(\"Accuracy score : \", accuracy_score(y_test, y_pred))"
   ]
  },
  {
   "cell_type": "markdown",
   "metadata": {
    "datalore": {
     "hide_input_from_viewers": true,
     "hide_output_from_viewers": false,
     "type": "MD"
    }
   },
   "source": [
    "The result of the prediction using logistic regression algorithm shows an accuracy of 96% with default hyperparameters and iteration = 5000."
   ]
  }
 ],
 "metadata": {
  "datalore": {
   "base_environment": "default",
   "computation_mode": "JUPYTER",
   "package_manager": "pip",
   "packages": [],
   "version": 1
  },
  "kernelspec": {
   "display_name": "Python 3 (ipykernel)",
   "language": "python",
   "name": "python3"
  },
  "language_info": {
   "codemirror_mode": {
    "name": "ipython",
    "version": 3
   },
   "file_extension": ".py",
   "mimetype": "text/x-python",
   "name": "python",
   "nbconvert_exporter": "python",
   "pygments_lexer": "ipython3",
   "version": "3.9.13"
  }
 },
 "nbformat": 4,
 "nbformat_minor": 4
}
